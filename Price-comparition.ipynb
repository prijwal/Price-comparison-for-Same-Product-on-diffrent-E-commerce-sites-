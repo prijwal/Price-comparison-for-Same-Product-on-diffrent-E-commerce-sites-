{
 "cells": [
  {
   "cell_type": "code",
   "execution_count": 214,
   "id": "d981126c",
   "metadata": {},
   "outputs": [
    {
     "name": "stdout",
     "output_type": "stream",
     "text": [
      "Requirement already satisfied: requests in c:\\users\\prijw\\anaconda3\\lib\\site-packages (2.25.1)\n",
      "Requirement already satisfied: idna<3,>=2.5 in c:\\users\\prijw\\anaconda3\\lib\\site-packages (from requests) (2.10)\n",
      "Requirement already satisfied: urllib3<1.27,>=1.21.1 in c:\\users\\prijw\\anaconda3\\lib\\site-packages (from requests) (1.26.4)\n",
      "Requirement already satisfied: chardet<5,>=3.0.2 in c:\\users\\prijw\\anaconda3\\lib\\site-packages (from requests) (4.0.0)\n",
      "Requirement already satisfied: certifi>=2017.4.17 in c:\\users\\prijw\\anaconda3\\lib\\site-packages (from requests) (2020.12.5)\n"
     ]
    }
   ],
   "source": [
    "!pip install requests"
   ]
  },
  {
   "cell_type": "code",
   "execution_count": 215,
   "id": "a792b729",
   "metadata": {},
   "outputs": [],
   "source": [
    "import requests\n",
    "from bs4 import BeautifulSoup\n",
    "import smtplib"
   ]
  },
  {
   "cell_type": "code",
   "execution_count": 238,
   "id": "ff590d50",
   "metadata": {},
   "outputs": [],
   "source": [
    "# url1=\"https://www.amazon.in/LG-Inverter-Fully-Automatic-Loading-T65SKSF4Z/dp/B084LF24Z8/ref=lp_1380369031_1_3\""
   ]
  },
  {
   "cell_type": "code",
   "execution_count": 264,
   "id": "8fca2757",
   "metadata": {},
   "outputs": [],
   "source": [
    "url1=\"https://www.amazon.in/New-Apple-iPhone-Pro-256GB/dp/B08L5T31M6/ref=sr_1_1_sspa?dchild=1&keywords=apple&qid=1626692344&s=electronics&sr=1-1-spons&psc=1&spLa=ZW5jcnlwdGVkUXVhbGlmaWVyPUEzRjFBT0RINzJPWDlYJmVuY3J5cHRlZElkPUEwNTg2Nzc0M1RQWUZDMEQ3Mlo1RCZlbmNyeXB0ZWRBZElkPUEwMzI2OTg5MkEzUTQ5WDRSSkdSUSZ3aWRnZXROYW1lPXNwX2F0ZiZhY3Rpb249Y2xpY2tSZWRpcmVjdCZkb05vdExvZ0NsaWNrPXRydWU=\"\n"
   ]
  },
  {
   "cell_type": "code",
   "execution_count": 265,
   "id": "8b3a96eb",
   "metadata": {},
   "outputs": [],
   "source": [
    "# url2=\"https://www.flipkart.com/lg-6-5-kg-5-star-inverter-fully-automatic-top-load-silver/p/itme4cacbedc1c8f?pid=WMNFZX5BMUYJMPRB&lid=LSTWMNFZX5BMUYJMPRBQPQHWF&marketplace=FLIPKART&q=LG+6.5+Kg+5+Star+Smart+Inverter+Fully-Automatic+Top+Loading+Washing+Machine&store=j9e%2Fabm%2F8qx&srno=s_1_1&otracker=search&otracker1=search&fm=SEARCH&iid=0b524b9e-107d-4bce-b150-0895b13304b5.WMNFZX5BMUYJMPRB.SEARCH&ppt=pp&ppn=pp&ssid=tr5snnjsk00000001626722277960&qH=4ddef643251f6ac3\""
   ]
  },
  {
   "cell_type": "code",
   "execution_count": 266,
   "id": "6d947c9d",
   "metadata": {},
   "outputs": [],
   "source": [
    "url2=\"https://www.flipkart.com/apple-iphone-12-pro-max-pacific-blue-256-gb/p/itm3a0860c94250e?pid=MOBFWBYZ8STJXCVT&lid=LSTMOBFWBYZ8STJXCVT0OKDMO&marketplace=FLIPKART&q=apple+iphone+12+pro+max+pacific+blue&store=tyy%2F4io&srno=s_1_3&otracker=search&otracker1=search&fm=SEARCH&iid=fe29cbdf-b47f-4c48-877b-91bd20da5ec2.MOBFWBYZ8STJXCVT.SEARCH&ppt=pp&ppn=pp&ssid=10jxnidepc0000001626695484357&qH=6f19c7de6109cefa\""
   ]
  },
  {
   "cell_type": "code",
   "execution_count": 267,
   "id": "73f06a0a",
   "metadata": {},
   "outputs": [],
   "source": [
    "headers={\"user-agent\":\"Mozilla/5.0 (Windows NT 10.0; Win64; x64) AppleWebKit/537.36 (KHTML, like Gecko) Chrome/91.0.4472.124 Safari/537.36\"}"
   ]
  },
  {
   "cell_type": "markdown",
   "id": "3c52ce77",
   "metadata": {},
   "source": [
    "### For First URL"
   ]
  },
  {
   "cell_type": "code",
   "execution_count": 268,
   "id": "8e4b481a",
   "metadata": {},
   "outputs": [],
   "source": [
    "page=requests.get(url1,headers=headers)"
   ]
  },
  {
   "cell_type": "code",
   "execution_count": 269,
   "id": "74871ade",
   "metadata": {},
   "outputs": [],
   "source": [
    "soup=BeautifulSoup(page.content,'html.parser')"
   ]
  },
  {
   "cell_type": "code",
   "execution_count": 270,
   "id": "79d47d0b",
   "metadata": {},
   "outputs": [
    {
     "name": "stdout",
     "output_type": "stream",
     "text": [
      "<title>New Apple iPhone 12 Pro Max (256GB) - Pacific Blue : Amazon.in</title>\n"
     ]
    }
   ],
   "source": [
    "print(soup.title)"
   ]
  },
  {
   "cell_type": "code",
   "execution_count": 273,
   "id": "6f1ea5f1",
   "metadata": {},
   "outputs": [],
   "source": [
    "name=soup.find(id=\"productTitle\")\n",
    "name=name.get_text()\n",
    "# print(name)"
   ]
  },
  {
   "cell_type": "code",
   "execution_count": 274,
   "id": "0948280c",
   "metadata": {},
   "outputs": [
    {
     "data": {
      "text/plain": [
       "'New Apple iPhone 12 Pro Max (256GB) - Pacific Blue'"
      ]
     },
     "execution_count": 274,
     "metadata": {},
     "output_type": "execute_result"
    }
   ],
   "source": [
    "name=name.strip()\n",
    "name"
   ]
  },
  {
   "cell_type": "code",
   "execution_count": 275,
   "id": "b5118e00",
   "metadata": {},
   "outputs": [
    {
     "name": "stdout",
     "output_type": "stream",
     "text": [
      "<span class=\"a-size-medium a-color-price priceBlockBuyingPriceString\" id=\"priceblock_ourprice\">₹1,32,200.00</span>\n",
      "₹1,32,200.00\n"
     ]
    },
    {
     "data": {
      "text/plain": [
       "str"
      ]
     },
     "execution_count": 275,
     "metadata": {},
     "output_type": "execute_result"
    }
   ],
   "source": [
    "price1=soup.find(id=\"priceblock_ourprice\")\n",
    "print(price1)\n",
    "price1=price1.get_text()\n",
    "print(price1)\n",
    "type(price1)\n"
   ]
  },
  {
   "cell_type": "code",
   "execution_count": 276,
   "id": "544f6547",
   "metadata": {},
   "outputs": [
    {
     "name": "stdout",
     "output_type": "stream",
     "text": [
      "1,32,200\n"
     ]
    },
    {
     "data": {
      "text/plain": [
       "'132200'"
      ]
     },
     "execution_count": 276,
     "metadata": {},
     "output_type": "execute_result"
    }
   ],
   "source": [
    "price1=price1[1:-3]\n",
    "print(price1)\n",
    "price1=price1.replace(',','')\n",
    "price1"
   ]
  },
  {
   "cell_type": "code",
   "execution_count": 277,
   "id": "b5d3b441",
   "metadata": {},
   "outputs": [
    {
     "data": {
      "text/plain": [
       "132200"
      ]
     },
     "execution_count": 277,
     "metadata": {},
     "output_type": "execute_result"
    }
   ],
   "source": [
    "cost1=int(price1)\n",
    "cost1"
   ]
  },
  {
   "cell_type": "markdown",
   "id": "7cce29f2",
   "metadata": {},
   "source": [
    "### For Second URL"
   ]
  },
  {
   "cell_type": "code",
   "execution_count": 278,
   "id": "c67a41f4",
   "metadata": {},
   "outputs": [],
   "source": [
    "page=requests.get(url2,headers=headers)"
   ]
  },
  {
   "cell_type": "code",
   "execution_count": 279,
   "id": "db73aeab",
   "metadata": {
    "scrolled": false
   },
   "outputs": [],
   "source": [
    "soup=BeautifulSoup(page.content,'html.parser')"
   ]
  },
  {
   "cell_type": "code",
   "execution_count": 280,
   "id": "e7428b71",
   "metadata": {},
   "outputs": [],
   "source": [
    "# name=soup.select(\".aMaAEs\")"
   ]
  },
  {
   "cell_type": "code",
   "execution_count": 281,
   "id": "bf762ae3",
   "metadata": {},
   "outputs": [
    {
     "name": "stdout",
     "output_type": "stream",
     "text": [
      "<div class=\"_30jeq3 _16Jk6d\">₹1,35,900</div>\n",
      "₹1,35,900\n"
     ]
    },
    {
     "data": {
      "text/plain": [
       "str"
      ]
     },
     "execution_count": 281,
     "metadata": {},
     "output_type": "execute_result"
    }
   ],
   "source": [
    "price2=soup.find(class_=\"_30jeq3 _16Jk6d\")\n",
    "print(price2)\n",
    "price2=price2.get_text()\n",
    "print(price2)\n",
    "type(price2)"
   ]
  },
  {
   "cell_type": "code",
   "execution_count": 282,
   "id": "ecd7191b",
   "metadata": {},
   "outputs": [
    {
     "name": "stdout",
     "output_type": "stream",
     "text": [
      "1,35,900\n",
      "135900\n"
     ]
    }
   ],
   "source": [
    "price2=price2[1:]\n",
    "print(price2)\n",
    "price2=price2.replace(',','')\n",
    "print(price2)"
   ]
  },
  {
   "cell_type": "code",
   "execution_count": 283,
   "id": "76285d64",
   "metadata": {},
   "outputs": [
    {
     "data": {
      "text/plain": [
       "135900"
      ]
     },
     "execution_count": 283,
     "metadata": {},
     "output_type": "execute_result"
    }
   ],
   "source": [
    "cost2=int(price2)\n",
    "cost2"
   ]
  },
  {
   "cell_type": "markdown",
   "id": "fcfb8641",
   "metadata": {},
   "source": [
    "### Comparing prices"
   ]
  },
  {
   "cell_type": "code",
   "execution_count": 284,
   "id": "7919d68e",
   "metadata": {},
   "outputs": [],
   "source": [
    "price=0;\n",
    "comapny=\"\";\n",
    "if(cost1>cost2):\n",
    "    price=cost2;\n",
    "    company=\"Flipkart\"\n",
    "else:\n",
    "    price=cost1;\n",
    "    company=\"Amazon\"\n",
    "# print(price)\n",
    "# print(company)"
   ]
  },
  {
   "cell_type": "markdown",
   "id": "54298607",
   "metadata": {},
   "source": [
    "### Sending mails to receiver end"
   ]
  },
  {
   "cell_type": "code",
   "execution_count": 285,
   "id": "a9b3b986",
   "metadata": {},
   "outputs": [],
   "source": [
    "f=open(\"mails.txt\")\n",
    "reciever_emails=f.read()\n",
    "reciever_emails=reciever_emails.split(',')"
   ]
  },
  {
   "cell_type": "code",
   "execution_count": 288,
   "id": "6aea3d9c",
   "metadata": {},
   "outputs": [],
   "source": [
    "def send_mail():\n",
    "    smtp_server = \"smtp.gmail.com\"\n",
    "    port = 587  \n",
    "    sender_email = \"aayushrajavat@gmail.com\"\n",
    "    f = open(\"pass.txt\", \"r\")\n",
    "    password=f.read()\n",
    "    server = smtplib.SMTP(smtp_server,port)\n",
    "    server.starttls() \n",
    "    server.login(sender_email,password)\n",
    "    subject=f\"Hurry Price fell down for {name}\"\n",
    "    if company==\"Flipkart\":\n",
    "        body=f\"Check the Flipkart link :{url2}\"\n",
    "        msg=f\"Subject:{subject}\\n\\n{body}\"\n",
    "        server.sendmail(sender_email,reciever_emails,msg)\n",
    "        print(\"Mail sent for Flipkart \")\n",
    "        server.quit() \n",
    "    else:\n",
    "        body=f\"Check the Amazon link :{url1}\"\n",
    "        msg=f\"Subject:{subject}\\n\\n{body}\"\n",
    "        server.sendmail(sender_email,reciever_emails,msg)\n",
    "        print(\"Mail sent for Amazon\")\n",
    "        server.quit()"
   ]
  },
  {
   "cell_type": "code",
   "execution_count": 289,
   "id": "9f8da79c",
   "metadata": {},
   "outputs": [
    {
     "name": "stdout",
     "output_type": "stream",
     "text": [
      "Mail sent for Amazon\n"
     ]
    }
   ],
   "source": [
    "send_mail()"
   ]
  },
  {
   "cell_type": "code",
   "execution_count": null,
   "id": "90d3a2f1",
   "metadata": {},
   "outputs": [],
   "source": []
  }
 ],
 "metadata": {
  "kernelspec": {
   "display_name": "Python 3",
   "language": "python",
   "name": "python3"
  },
  "language_info": {
   "codemirror_mode": {
    "name": "ipython",
    "version": 3
   },
   "file_extension": ".py",
   "mimetype": "text/x-python",
   "name": "python",
   "nbconvert_exporter": "python",
   "pygments_lexer": "ipython3",
   "version": "3.8.8"
  }
 },
 "nbformat": 4,
 "nbformat_minor": 5
}
